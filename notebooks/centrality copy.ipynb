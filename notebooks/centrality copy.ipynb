{
 "cells": [
  {
   "cell_type": "markdown",
   "metadata": {},
   "source": [
    "# Comparing centrality measures in Estonian and English Wikipedias"
   ]
  },
  {
   "attachments": {},
   "cell_type": "markdown",
   "metadata": {},
   "source": [
    "## Setup"
   ]
  },
  {
   "cell_type": "code",
   "execution_count": 1,
   "metadata": {},
   "outputs": [
    {
     "name": "stdout",
     "output_type": "stream",
     "text": [
      "\u001b[33mWARNING: You are using pip version 21.1.2; however, version 23.1.2 is available.\n",
      "You should consider upgrading via the '/home/eeriksp/.config/jupyterlab-desktop/jlab_server/bin/python3.8 -m pip install --upgrade pip' command.\u001b[0m\n"
     ]
    }
   ],
   "source": [
    "!pip install -q networkx"
   ]
  },
  {
   "cell_type": "code",
   "execution_count": 3,
   "metadata": {},
   "outputs": [],
   "source": [
    "import pandas as pd\n",
    "import networkx as nx\n",
    "import heapq\n",
    "from multiprocessing import Pool\n"
   ]
  },
  {
   "attachments": {},
   "cell_type": "markdown",
   "metadata": {},
   "source": [
    "## Read data"
   ]
  },
  {
   "cell_type": "code",
   "execution_count": 4,
   "metadata": {},
   "outputs": [],
   "source": [
    "def filter_categories(data: pd.DataFrame) -> pd.DataFrame:\n",
    "    return data[~data[\"node_name\"].str.startswith(\"Category:\")]"
   ]
  },
  {
   "cell_type": "code",
   "execution_count": 5,
   "metadata": {},
   "outputs": [
    {
     "data": {
      "text/html": [
       "<div>\n",
       "<style scoped>\n",
       "    .dataframe tbody tr th:only-of-type {\n",
       "        vertical-align: middle;\n",
       "    }\n",
       "\n",
       "    .dataframe tbody tr th {\n",
       "        vertical-align: top;\n",
       "    }\n",
       "\n",
       "    .dataframe thead th {\n",
       "        text-align: right;\n",
       "    }\n",
       "</style>\n",
       "<table border=\"1\" class=\"dataframe\">\n",
       "  <thead>\n",
       "    <tr style=\"text-align: right;\">\n",
       "      <th></th>\n",
       "      <th>node_id</th>\n",
       "      <th>node_name</th>\n",
       "      <th>node_summary</th>\n",
       "      <th>node_et_equivalent</th>\n",
       "    </tr>\n",
       "  </thead>\n",
       "  <tbody>\n",
       "    <tr>\n",
       "      <th>0</th>\n",
       "      <td>27685</td>\n",
       "      <td>Tantra</td>\n",
       "      <td>Tantra (; ) refers to an  esoteric yogic tr...</td>\n",
       "      <td>Tantrad</td>\n",
       "    </tr>\n",
       "    <tr>\n",
       "      <th>1</th>\n",
       "      <td>911</td>\n",
       "      <td>African Americans in Tennessee</td>\n",
       "      <td>African Americans are the second largest ethni...</td>\n",
       "      <td>NaN</td>\n",
       "    </tr>\n",
       "    <tr>\n",
       "      <th>2</th>\n",
       "      <td>3359</td>\n",
       "      <td>Asia Minor</td>\n",
       "      <td>NaN</td>\n",
       "      <td>NaN</td>\n",
       "    </tr>\n",
       "    <tr>\n",
       "      <th>3</th>\n",
       "      <td>13296</td>\n",
       "      <td>Hot in Cleveland (season 5)</td>\n",
       "      <td>The fifth season of the TV Land original sitco...</td>\n",
       "      <td>NaN</td>\n",
       "    </tr>\n",
       "    <tr>\n",
       "      <th>4</th>\n",
       "      <td>6720</td>\n",
       "      <td>Christopher Duggan</td>\n",
       "      <td>Christopher John Hesketh Duggan (4 November 19...</td>\n",
       "      <td>NaN</td>\n",
       "    </tr>\n",
       "    <tr>\n",
       "      <th>...</th>\n",
       "      <td>...</td>\n",
       "      <td>...</td>\n",
       "      <td>...</td>\n",
       "      <td>...</td>\n",
       "    </tr>\n",
       "    <tr>\n",
       "      <th>31816</th>\n",
       "      <td>7475</td>\n",
       "      <td>Cormac Burke (priest)</td>\n",
       "      <td>NaN</td>\n",
       "      <td>NaN</td>\n",
       "    </tr>\n",
       "    <tr>\n",
       "      <th>31817</th>\n",
       "      <td>30894</td>\n",
       "      <td>Western world</td>\n",
       "      <td>The Western world, also known as the West, pri...</td>\n",
       "      <td>Läänemaailm</td>\n",
       "    </tr>\n",
       "    <tr>\n",
       "      <th>31818</th>\n",
       "      <td>13108</td>\n",
       "      <td>History of the Hungarian language</td>\n",
       "      <td>right|thumb|250px|The \"Funeral Sermon and Pray...</td>\n",
       "      <td>NaN</td>\n",
       "    </tr>\n",
       "    <tr>\n",
       "      <th>31819</th>\n",
       "      <td>140</td>\n",
       "      <td>1996 Nobel Prize in Literature</td>\n",
       "      <td>The 1996 Nobel Prize in Literature was awarded...</td>\n",
       "      <td>NaN</td>\n",
       "    </tr>\n",
       "    <tr>\n",
       "      <th>31820</th>\n",
       "      <td>7636</td>\n",
       "      <td>Crisis theory</td>\n",
       "      <td>Crisis theory, concerning the causes'The cause...</td>\n",
       "      <td>NaN</td>\n",
       "    </tr>\n",
       "  </tbody>\n",
       "</table>\n",
       "<p>31310 rows × 4 columns</p>\n",
       "</div>"
      ],
      "text/plain": [
       "       node_id                          node_name  \\\n",
       "0        27685                             Tantra   \n",
       "1          911     African Americans in Tennessee   \n",
       "2         3359                         Asia Minor   \n",
       "3        13296        Hot in Cleveland (season 5)   \n",
       "4         6720                 Christopher Duggan   \n",
       "...        ...                                ...   \n",
       "31816     7475              Cormac Burke (priest)   \n",
       "31817    30894                      Western world   \n",
       "31818    13108  History of the Hungarian language   \n",
       "31819      140     1996 Nobel Prize in Literature   \n",
       "31820     7636                      Crisis theory   \n",
       "\n",
       "                                            node_summary node_et_equivalent  \n",
       "0         Tantra (; ) refers to an  esoteric yogic tr...            Tantrad  \n",
       "1      African Americans are the second largest ethni...                NaN  \n",
       "2                                                    NaN                NaN  \n",
       "3      The fifth season of the TV Land original sitco...                NaN  \n",
       "4      Christopher John Hesketh Duggan (4 November 19...                NaN  \n",
       "...                                                  ...                ...  \n",
       "31816                                                NaN                NaN  \n",
       "31817  The Western world, also known as the West, pri...        Läänemaailm  \n",
       "31818  right|thumb|250px|The \"Funeral Sermon and Pray...                NaN  \n",
       "31819  The 1996 Nobel Prize in Literature was awarded...                NaN  \n",
       "31820  Crisis theory, concerning the causes'The cause...                NaN  \n",
       "\n",
       "[31310 rows x 4 columns]"
      ]
     },
     "execution_count": 5,
     "metadata": {},
     "output_type": "execute_result"
    }
   ],
   "source": [
    "edges_en = pd.read_csv(\"../data/edges_en.csv\")\n",
    "edges_et = pd.read_csv(\"../data/edges_et.csv\")\n",
    "nodes_en = filter_categories(pd.read_csv(\"../data/nodes_en.csv\"))\n",
    "nodes_et = filter_categories(pd.read_csv(\"../data/nodes_et.csv\"))\n",
    "nodes_en"
   ]
  },
  {
   "cell_type": "code",
   "execution_count": 6,
   "metadata": {},
   "outputs": [
    {
     "data": {
      "text/html": [
       "<div>\n",
       "<style scoped>\n",
       "    .dataframe tbody tr th:only-of-type {\n",
       "        vertical-align: middle;\n",
       "    }\n",
       "\n",
       "    .dataframe tbody tr th {\n",
       "        vertical-align: top;\n",
       "    }\n",
       "\n",
       "    .dataframe thead th {\n",
       "        text-align: right;\n",
       "    }\n",
       "</style>\n",
       "<table border=\"1\" class=\"dataframe\">\n",
       "  <thead>\n",
       "    <tr style=\"text-align: right;\">\n",
       "      <th></th>\n",
       "      <th>source</th>\n",
       "      <th>target</th>\n",
       "    </tr>\n",
       "  </thead>\n",
       "  <tbody>\n",
       "    <tr>\n",
       "      <th>0</th>\n",
       "      <td>22260</td>\n",
       "      <td>150</td>\n",
       "    </tr>\n",
       "    <tr>\n",
       "      <th>1</th>\n",
       "      <td>22260</td>\n",
       "      <td>264</td>\n",
       "    </tr>\n",
       "    <tr>\n",
       "      <th>2</th>\n",
       "      <td>22260</td>\n",
       "      <td>266</td>\n",
       "    </tr>\n",
       "    <tr>\n",
       "      <th>3</th>\n",
       "      <td>22260</td>\n",
       "      <td>402</td>\n",
       "    </tr>\n",
       "    <tr>\n",
       "      <th>4</th>\n",
       "      <td>22260</td>\n",
       "      <td>460</td>\n",
       "    </tr>\n",
       "    <tr>\n",
       "      <th>...</th>\n",
       "      <td>...</td>\n",
       "      <td>...</td>\n",
       "    </tr>\n",
       "    <tr>\n",
       "      <th>69144</th>\n",
       "      <td>5237</td>\n",
       "      <td>6054</td>\n",
       "    </tr>\n",
       "    <tr>\n",
       "      <th>69145</th>\n",
       "      <td>5237</td>\n",
       "      <td>6064</td>\n",
       "    </tr>\n",
       "    <tr>\n",
       "      <th>69146</th>\n",
       "      <td>5237</td>\n",
       "      <td>6125</td>\n",
       "    </tr>\n",
       "    <tr>\n",
       "      <th>69147</th>\n",
       "      <td>5237</td>\n",
       "      <td>22836</td>\n",
       "    </tr>\n",
       "    <tr>\n",
       "      <th>69148</th>\n",
       "      <td>5237</td>\n",
       "      <td>22841</td>\n",
       "    </tr>\n",
       "  </tbody>\n",
       "</table>\n",
       "<p>69149 rows × 2 columns</p>\n",
       "</div>"
      ],
      "text/plain": [
       "       source  target\n",
       "0       22260     150\n",
       "1       22260     264\n",
       "2       22260     266\n",
       "3       22260     402\n",
       "4       22260     460\n",
       "...       ...     ...\n",
       "69144    5237    6054\n",
       "69145    5237    6064\n",
       "69146    5237    6125\n",
       "69147    5237   22836\n",
       "69148    5237   22841\n",
       "\n",
       "[69149 rows x 2 columns]"
      ]
     },
     "execution_count": 6,
     "metadata": {},
     "output_type": "execute_result"
    }
   ],
   "source": [
    "edges_en"
   ]
  },
  {
   "attachments": {},
   "cell_type": "markdown",
   "metadata": {},
   "source": [
    "## Construct graphs"
   ]
  },
  {
   "cell_type": "code",
   "execution_count": 7,
   "metadata": {},
   "outputs": [],
   "source": [
    "def create_graph(nodes: pd.DataFrame, edges: pd.DataFrame) -> nx.Graph:\n",
    "    n = nodes.drop_duplicates(subset='node_id').reset_index(drop=True)\n",
    "    g = nx.from_pandas_edgelist(edges, create_using=nx.Graph())\n",
    "    node_attrs = n.set_index('node_id').to_dict('index')\n",
    "    nx.set_node_attributes(g, node_attrs)\n",
    "    return g\n"
   ]
  },
  {
   "cell_type": "code",
   "execution_count": 8,
   "metadata": {},
   "outputs": [
    {
     "data": {
      "text/plain": [
       "{'node_name': 'Tantra',\n",
       " 'node_summary': '   Tantra (; ) refers to an  esoteric yogic tradition that developed on the Indian subcontinent from the middle of the 1st millennium CE onwards in both Hinduism and Buddhism.  The term tantra, in the Indian traditions, also means any systematic broadly applicable \"text, theory, system, method, instrument, technique or practice\".  A key feature of these traditions is the use of mantras, and thus they are commonly referred to as Mantramārga (\"Path of Mantra\") in Hinduism or Mantrayāna (\"Mantra Vehi.',\n",
       " 'node_et_equivalent': 'Tantrad'}"
      ]
     },
     "execution_count": 8,
     "metadata": {},
     "output_type": "execute_result"
    }
   ],
   "source": [
    "g_en = create_graph(nodes_en, edges_en)\n",
    "g_et = create_graph(nodes_et, edges_et)\n",
    "\n",
    "g_en.nodes[27685]"
   ]
  },
  {
   "attachments": {},
   "cell_type": "markdown",
   "metadata": {},
   "source": [
    "## Compute centrality metrics"
   ]
  },
  {
   "cell_type": "code",
   "execution_count": 9,
   "metadata": {},
   "outputs": [
    {
     "data": {
      "text/plain": [
       "[2386, 4305, 3148, 3569, 2131, 4481, 1108, 1412, 988, 4938]"
      ]
     },
     "execution_count": 9,
     "metadata": {},
     "output_type": "execute_result"
    }
   ],
   "source": [
    "pagerank_en_scores = nx.pagerank(g_en)\n",
    "heapq.nlargest(10, pagerank_en_scores, key=pagerank_en_scores.get)"
   ]
  },
  {
   "cell_type": "code",
   "execution_count": 31,
   "metadata": {},
   "outputs": [],
   "source": [
    "def compute_centrality_measures(g: nx.Graph) -> pd.DataFrame:\n",
    "    return pd.DataFrame.from_dict({\n",
    "        \"degree\": nx.degree_centrality(g),\n",
    "        \"betweenness\": nx.betweenness_centrality(g),\n",
    "        \"eigenvector\": nx.eigenvector_centrality(g),\n",
    "        \"closeness\": nx.closeness_centrality(g),\n",
    "        \"pagerank\": nx.pagerank(g)\n",
    "    })\n"
   ]
  },
  {
   "cell_type": "code",
   "execution_count": 37,
   "metadata": {},
   "outputs": [],
   "source": [
    "\n",
    "def compute_centrality_measures(g: nx.Graph) -> pd.DataFrame:\n",
    "    with Pool() as pool:\n",
    "        degree = pool.apply_async(nx.degree_centrality, (g,))\n",
    "        betweenness = pool.apply_async(nx.betweenness_centrality, (g,))\n",
    "        eigenvector = pool.apply_async(nx.eigenvector_centrality, (g,))\n",
    "        closeness = pool.apply_async(nx.closeness_centrality, (g,))\n",
    "        pagerank = pool.apply_async(nx.pagerank, (g,))\n",
    "\n",
    "        return pd.DataFrame.from_dict({\n",
    "            \"degree\": degree.get(),\n",
    "            \"betweenness\": betweenness.get(),\n",
    "            \"eigenvector\": eigenvector.get(),\n",
    "            \"closeness\": closeness.get(),\n",
    "            \"pagerank\": pagerank.get()\n",
    "        })"
   ]
  },
  {
   "cell_type": "code",
   "execution_count": 12,
   "metadata": {},
   "outputs": [
    {
     "ename": "KeyboardInterrupt",
     "evalue": "",
     "output_type": "error",
     "traceback": [
      "\u001b[0;31m---------------------------------------------------------------------------\u001b[0m",
      "\u001b[0;31mKeyboardInterrupt\u001b[0m                         Traceback (most recent call last)",
      "\u001b[1;32m/home/eeriksp/Develop/ut/netsci-wikipedia/notebooks/centrality copy.ipynb Cell 16\u001b[0m in \u001b[0;36m<cell line: 2>\u001b[0;34m()\u001b[0m\n\u001b[1;32m      <a href='vscode-notebook-cell:/home/eeriksp/Develop/ut/netsci-wikipedia/notebooks/centrality%20copy.ipynb#X24sZmlsZQ%3D%3D?line=0'>1</a>\u001b[0m degree_en \u001b[39m=\u001b[39m nx\u001b[39m.\u001b[39mdegree_centrality(g_en)\n\u001b[0;32m----> <a href='vscode-notebook-cell:/home/eeriksp/Develop/ut/netsci-wikipedia/notebooks/centrality%20copy.ipynb#X24sZmlsZQ%3D%3D?line=1'>2</a>\u001b[0m betweenness_en \u001b[39m=\u001b[39m nx\u001b[39m.\u001b[39;49mbetweenness_centrality(g_en)\n",
      "File \u001b[0;32m~/.config/jupyterlab-desktop/jlab_server/lib/python3.8/site-packages/networkx/classes/backends.py:148\u001b[0m, in \u001b[0;36m_dispatch.<locals>.wrapper\u001b[0;34m(*args, **kwds)\u001b[0m\n\u001b[1;32m    144\u001b[0m         \u001b[39melse\u001b[39;00m:\n\u001b[1;32m    145\u001b[0m             \u001b[39mraise\u001b[39;00m NetworkXNotImplemented(\n\u001b[1;32m    146\u001b[0m                 \u001b[39mf\u001b[39m\u001b[39m\"\u001b[39m\u001b[39m'\u001b[39m\u001b[39m{\u001b[39;00mname\u001b[39m}\u001b[39;00m\u001b[39m'\u001b[39m\u001b[39m not implemented by \u001b[39m\u001b[39m{\u001b[39;00mplugin_name\u001b[39m}\u001b[39;00m\u001b[39m\"\u001b[39m\n\u001b[1;32m    147\u001b[0m             )\n\u001b[0;32m--> 148\u001b[0m \u001b[39mreturn\u001b[39;00m func(\u001b[39m*\u001b[39;49margs, \u001b[39m*\u001b[39;49m\u001b[39m*\u001b[39;49mkwds)\n",
      "File \u001b[0;32m~/.config/jupyterlab-desktop/jlab_server/lib/python3.8/site-packages/networkx/utils/decorators.py:766\u001b[0m, in \u001b[0;36margmap.__call__.<locals>.func\u001b[0;34m(_argmap__wrapper, *args, **kwargs)\u001b[0m\n\u001b[1;32m    765\u001b[0m \u001b[39mdef\u001b[39;00m \u001b[39mfunc\u001b[39m(\u001b[39m*\u001b[39margs, __wrapper\u001b[39m=\u001b[39m\u001b[39mNone\u001b[39;00m, \u001b[39m*\u001b[39m\u001b[39m*\u001b[39mkwargs):\n\u001b[0;32m--> 766\u001b[0m     \u001b[39mreturn\u001b[39;00m argmap\u001b[39m.\u001b[39;49m_lazy_compile(__wrapper)(\u001b[39m*\u001b[39;49margs, \u001b[39m*\u001b[39;49m\u001b[39m*\u001b[39;49mkwargs)\n",
      "File \u001b[0;32m<class 'networkx.utils.decorators.argmap'> compilation 8:4\u001b[0m, in \u001b[0;36margmap_betweenness_centrality_5\u001b[0;34m(G, k, normalized, weight, endpoints, seed)\u001b[0m\n\u001b[1;32m      2\u001b[0m \u001b[39mimport\u001b[39;00m \u001b[39mcollections\u001b[39;00m\n\u001b[1;32m      3\u001b[0m \u001b[39mimport\u001b[39;00m \u001b[39mgzip\u001b[39;00m\n\u001b[0;32m----> 4\u001b[0m \u001b[39mimport\u001b[39;00m \u001b[39minspect\u001b[39;00m\n\u001b[1;32m      5\u001b[0m \u001b[39mimport\u001b[39;00m \u001b[39mitertools\u001b[39;00m\n\u001b[1;32m      6\u001b[0m \u001b[39mimport\u001b[39;00m \u001b[39mre\u001b[39;00m\n",
      "File \u001b[0;32m~/.config/jupyterlab-desktop/jlab_server/lib/python3.8/site-packages/networkx/algorithms/centrality/betweenness.py:131\u001b[0m, in \u001b[0;36mbetweenness_centrality\u001b[0;34m(G, k, normalized, weight, endpoints, seed)\u001b[0m\n\u001b[1;32m    128\u001b[0m \u001b[39mfor\u001b[39;00m s \u001b[39min\u001b[39;00m nodes:\n\u001b[1;32m    129\u001b[0m     \u001b[39m# single source shortest paths\u001b[39;00m\n\u001b[1;32m    130\u001b[0m     \u001b[39mif\u001b[39;00m weight \u001b[39mis\u001b[39;00m \u001b[39mNone\u001b[39;00m:  \u001b[39m# use BFS\u001b[39;00m\n\u001b[0;32m--> 131\u001b[0m         S, P, sigma, _ \u001b[39m=\u001b[39m _single_source_shortest_path_basic(G, s)\n\u001b[1;32m    132\u001b[0m     \u001b[39melse\u001b[39;00m:  \u001b[39m# use Dijkstra's algorithm\u001b[39;00m\n\u001b[1;32m    133\u001b[0m         S, P, sigma, _ \u001b[39m=\u001b[39m _single_source_dijkstra_path_basic(G, s, weight)\n",
      "File \u001b[0;32m~/.config/jupyterlab-desktop/jlab_server/lib/python3.8/site-packages/networkx/algorithms/centrality/betweenness.py:265\u001b[0m, in \u001b[0;36m_single_source_shortest_path_basic\u001b[0;34m(G, s)\u001b[0m\n\u001b[1;32m    263\u001b[0m Dv \u001b[39m=\u001b[39m D[v]\n\u001b[1;32m    264\u001b[0m sigmav \u001b[39m=\u001b[39m sigma[v]\n\u001b[0;32m--> 265\u001b[0m \u001b[39mfor\u001b[39;00m w \u001b[39min\u001b[39;00m G[v]:\n\u001b[1;32m    266\u001b[0m     \u001b[39mif\u001b[39;00m w \u001b[39mnot\u001b[39;00m \u001b[39min\u001b[39;00m D:\n\u001b[1;32m    267\u001b[0m         Q\u001b[39m.\u001b[39mappend(w)\n",
      "File \u001b[0;32m~/.config/jupyterlab-desktop/jlab_server/lib/python3.8/site-packages/networkx/classes/graph.py:513\u001b[0m, in \u001b[0;36mGraph.__getitem__\u001b[0;34m(self, n)\u001b[0m\n\u001b[1;32m    489\u001b[0m \u001b[39mdef\u001b[39;00m \u001b[39m__getitem__\u001b[39m(\u001b[39mself\u001b[39m, n):\n\u001b[1;32m    490\u001b[0m     \u001b[39m\"\"\"Returns a dict of neighbors of node n.  Use: 'G[n]'.\u001b[39;00m\n\u001b[1;32m    491\u001b[0m \n\u001b[1;32m    492\u001b[0m \u001b[39m    Parameters\u001b[39;00m\n\u001b[0;32m   (...)\u001b[0m\n\u001b[1;32m    511\u001b[0m \u001b[39m    AtlasView({1: {}})\u001b[39;00m\n\u001b[1;32m    512\u001b[0m \u001b[39m    \"\"\"\u001b[39;00m\n\u001b[0;32m--> 513\u001b[0m     \u001b[39mreturn\u001b[39;00m \u001b[39mself\u001b[39;49m\u001b[39m.\u001b[39;49madj[n]\n",
      "File \u001b[0;32m~/.config/jupyterlab-desktop/jlab_server/lib/python3.8/site-packages/networkx/classes/coreviews.py:81\u001b[0m, in \u001b[0;36mAdjacencyView.__getitem__\u001b[0;34m(self, name)\u001b[0m\n\u001b[1;32m     80\u001b[0m \u001b[39mdef\u001b[39;00m \u001b[39m__getitem__\u001b[39m(\u001b[39mself\u001b[39m, name):\n\u001b[0;32m---> 81\u001b[0m     \u001b[39mreturn\u001b[39;00m AtlasView(\u001b[39mself\u001b[39;49m\u001b[39m.\u001b[39;49m_atlas[name])\n",
      "File \u001b[0;32m~/.config/jupyterlab-desktop/jlab_server/lib/python3.8/site-packages/networkx/classes/coreviews.py:43\u001b[0m, in \u001b[0;36mAtlasView.__init__\u001b[0;34m(self, d)\u001b[0m\n\u001b[1;32m     40\u001b[0m \u001b[39mdef\u001b[39;00m \u001b[39m__setstate__\u001b[39m(\u001b[39mself\u001b[39m, state):\n\u001b[1;32m     41\u001b[0m     \u001b[39mself\u001b[39m\u001b[39m.\u001b[39m_atlas \u001b[39m=\u001b[39m state[\u001b[39m\"\u001b[39m\u001b[39m_atlas\u001b[39m\u001b[39m\"\u001b[39m]\n\u001b[0;32m---> 43\u001b[0m \u001b[39mdef\u001b[39;00m \u001b[39m__init__\u001b[39m(\u001b[39mself\u001b[39m, d):\n\u001b[1;32m     44\u001b[0m     \u001b[39mself\u001b[39m\u001b[39m.\u001b[39m_atlas \u001b[39m=\u001b[39m d\n\u001b[1;32m     46\u001b[0m \u001b[39mdef\u001b[39;00m \u001b[39m__len__\u001b[39m(\u001b[39mself\u001b[39m):\n",
      "\u001b[0;31mKeyboardInterrupt\u001b[0m: "
     ]
    }
   ],
   "source": [
    "degree_en = nx.degree_centrality(g_en)\n",
    "betweenness_en = nx.betweenness_centrality(g_en)"
   ]
  },
  {
   "cell_type": "code",
   "execution_count": null,
   "metadata": {},
   "outputs": [],
   "source": [
    "    return pd.DataFrame.from_dict({\n",
    "        \"degree\": nx.degree_centrality(g),\n",
    "        \"betweenness\": nx.betweenness_centrality(g),\n",
    "        \"eigenvector\": nx.eigenvector_centrality(g),\n",
    "        \"closeness\": nx.closeness_centrality(g),\n",
    "        \"pagerank\": nx.pagerank(g)\n",
    "    })"
   ]
  },
  {
   "cell_type": "code",
   "execution_count": 38,
   "metadata": {},
   "outputs": [],
   "source": [
    "centrality_en = compute_centrality_measures(g_en)"
   ]
  },
  {
   "cell_type": "code",
   "execution_count": null,
   "metadata": {},
   "outputs": [],
   "source": [
    "import seaborn as sns"
   ]
  }
 ],
 "metadata": {
  "kernelspec": {
   "display_name": "Python 3",
   "language": "python",
   "name": "python3"
  },
  "language_info": {
   "codemirror_mode": {
    "name": "ipython",
    "version": 3
   },
   "file_extension": ".py",
   "mimetype": "text/x-python",
   "name": "python",
   "nbconvert_exporter": "python",
   "pygments_lexer": "ipython3",
   "version": "3.8.13"
  },
  "orig_nbformat": 4
 },
 "nbformat": 4,
 "nbformat_minor": 2
}
