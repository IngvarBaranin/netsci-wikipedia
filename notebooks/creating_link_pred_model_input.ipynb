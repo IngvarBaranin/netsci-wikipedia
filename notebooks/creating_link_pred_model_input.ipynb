{
  "nbformat": 4,
  "nbformat_minor": 0,
  "metadata": {
    "colab": {
      "provenance": []
    },
    "kernelspec": {
      "name": "python3",
      "display_name": "Python 3"
    },
    "language_info": {
      "name": "python"
    },
    "accelerator": "GPU",
    "gpuClass": "standard"
  },
  "cells": [
    {
      "cell_type": "code",
      "execution_count": 1,
      "metadata": {
        "id": "HZ0ErjIiHXW4"
      },
      "outputs": [],
      "source": [
        "import pandas as pd"
      ]
    },
    {
      "cell_type": "code",
      "source": [
        "from google.colab import drive\n",
        "drive.mount('/content/drive')"
      ],
      "metadata": {
        "colab": {
          "base_uri": "https://localhost:8080/"
        },
        "id": "O1cUeYYmJrdN",
        "outputId": "60f4ac8c-4c49-4611-bcc3-a181c7275b07"
      },
      "execution_count": 2,
      "outputs": [
        {
          "output_type": "stream",
          "name": "stdout",
          "text": [
            "Mounted at /content/drive\n"
          ]
        }
      ]
    },
    {
      "cell_type": "code",
      "source": [
        "zip_path = \"drive/MyDrive/Andmeteaduse magister/4 Semester/Network Science/dataset.zip\" # <Path to dataset zip>\n",
        "!unzip \"{zip_path}\""
      ],
      "metadata": {
        "colab": {
          "base_uri": "https://localhost:8080/"
        },
        "id": "5B4bPMdOKslO",
        "outputId": "a47b6889-28d3-4bf7-ea19-59e4eeee0a3c"
      },
      "execution_count": 3,
      "outputs": [
        {
          "output_type": "stream",
          "name": "stdout",
          "text": [
            "Archive:  drive/MyDrive/Andmeteaduse magister/4 Semester/Network Science/dataset.zip\n",
            "  inflating: edges_en.csv            \n",
            "  inflating: edges_et.csv            \n",
            "  inflating: nodes_en.csv            \n",
            "  inflating: nodes_et.csv            \n"
          ]
        }
      ]
    },
    {
      "cell_type": "code",
      "source": [
        "nodes_et = pd.read_csv(\"nodes_et.csv\")\n",
        "edges_et = pd.read_csv(\"edges_et.csv\")\n",
        "\n",
        "# Ensure no overlap with en nodes before merging dfs\n",
        "nodes_et[\"node_id\"] = nodes_et[\"node_id\"] + 100_000\n",
        "edges_et[\"source\"] = edges_et[\"source\"] + 100_000\n",
        "edges_et[\"target\"] = edges_et[\"target\"] + 100_000\n",
        "\n",
        "nodes_en = pd.read_csv(\"nodes_en.csv\")\n",
        "edges_en = pd.read_csv(\"edges_en.csv\")"
      ],
      "metadata": {
        "id": "ss5lE1XBIg_7"
      },
      "execution_count": 73,
      "outputs": []
    },
    {
      "cell_type": "code",
      "source": [
        "nodes_en = nodes_en[~nodes_en[\"node_summary\"].isna()]\n",
        "nodes_et = nodes_et[~nodes_et[\"node_summary\"].isna()]"
      ],
      "metadata": {
        "id": "a7tdtvxBItq3"
      },
      "execution_count": 74,
      "outputs": []
    },
    {
      "cell_type": "code",
      "source": [
        "nodes_en[\"lang\"] = \"en\"\n",
        "nodes_et[\"lang\"] = \"et\""
      ],
      "metadata": {
        "id": "8HdkXza1O99t"
      },
      "execution_count": 75,
      "outputs": []
    },
    {
      "cell_type": "code",
      "source": [
        "all_nodes = pd.concat([nodes_en, nodes_et])\n",
        "all_nodes = all_nodes.rename(columns={\"node_et_equivalent\": \"interlanguagelink\"}).reset_index(drop=True)\n",
        "\n",
        "interlanguagelinks = nodes_et.merge(nodes_en, left_on=\"node_name\", right_on=\"node_et_equivalent\")[[\"node_id_x\", \"node_id_y\"]]\n",
        "interlanguagelinks.columns = [\"source\", \"target\"]\n",
        "interlanguagelinks\n",
        "all_edges = pd.concat([interlanguagelinks, edges_et, edges_en])"
      ],
      "metadata": {
        "id": "-Kuhn36h4YTD"
      },
      "execution_count": 78,
      "outputs": []
    },
    {
      "cell_type": "code",
      "source": [
        "!pip install laserembeddings[ja]\n",
        "!python -m laserembeddings download-models"
      ],
      "metadata": {
        "colab": {
          "base_uri": "https://localhost:8080/"
        },
        "id": "6REZWk4WQyCe",
        "outputId": "ef4ceab7-a213-4c34-a182-d2db5fc10387"
      },
      "execution_count": 46,
      "outputs": [
        {
          "output_type": "stream",
          "name": "stdout",
          "text": [
            "Looking in indexes: https://pypi.org/simple, https://us-python.pkg.dev/colab-wheels/public/simple/\n",
            "Requirement already satisfied: laserembeddings[ja] in /usr/local/lib/python3.10/dist-packages (1.1.2)\n",
            "Requirement already satisfied: subword-nmt<0.4.0,>=0.3.6 in /usr/local/lib/python3.10/dist-packages (from laserembeddings[ja]) (0.3.8)\n",
            "Requirement already satisfied: torch<2.0.0,>=1.0.1.post2 in /usr/local/lib/python3.10/dist-packages (from laserembeddings[ja]) (1.13.1)\n",
            "Requirement already satisfied: sacremoses==0.0.35 in /usr/local/lib/python3.10/dist-packages (from laserembeddings[ja]) (0.0.35)\n",
            "Requirement already satisfied: numpy<2.0.0,>=1.15.4 in /usr/local/lib/python3.10/dist-packages (from laserembeddings[ja]) (1.22.4)\n",
            "Requirement already satisfied: transliterate==1.10.2 in /usr/local/lib/python3.10/dist-packages (from laserembeddings[ja]) (1.10.2)\n",
            "Requirement already satisfied: ipadic==1.0.0 in /usr/local/lib/python3.10/dist-packages (from laserembeddings[ja]) (1.0.0)\n",
            "Requirement already satisfied: mecab-python3<2.0.0,>=1.0.1 in /usr/local/lib/python3.10/dist-packages (from laserembeddings[ja]) (1.0.6)\n",
            "Requirement already satisfied: tqdm in /usr/local/lib/python3.10/dist-packages (from sacremoses==0.0.35->laserembeddings[ja]) (4.65.0)\n",
            "Requirement already satisfied: six in /usr/local/lib/python3.10/dist-packages (from sacremoses==0.0.35->laserembeddings[ja]) (1.16.0)\n",
            "Requirement already satisfied: joblib in /usr/local/lib/python3.10/dist-packages (from sacremoses==0.0.35->laserembeddings[ja]) (1.2.0)\n",
            "Requirement already satisfied: click in /usr/local/lib/python3.10/dist-packages (from sacremoses==0.0.35->laserembeddings[ja]) (8.1.3)\n",
            "Requirement already satisfied: mock in /usr/local/lib/python3.10/dist-packages (from subword-nmt<0.4.0,>=0.3.6->laserembeddings[ja]) (5.0.2)\n",
            "Requirement already satisfied: nvidia-cuda-runtime-cu11==11.7.99 in /usr/local/lib/python3.10/dist-packages (from torch<2.0.0,>=1.0.1.post2->laserembeddings[ja]) (11.7.99)\n",
            "Requirement already satisfied: typing-extensions in /usr/local/lib/python3.10/dist-packages (from torch<2.0.0,>=1.0.1.post2->laserembeddings[ja]) (4.5.0)\n",
            "Requirement already satisfied: nvidia-cublas-cu11==11.10.3.66 in /usr/local/lib/python3.10/dist-packages (from torch<2.0.0,>=1.0.1.post2->laserembeddings[ja]) (11.10.3.66)\n",
            "Requirement already satisfied: nvidia-cudnn-cu11==8.5.0.96 in /usr/local/lib/python3.10/dist-packages (from torch<2.0.0,>=1.0.1.post2->laserembeddings[ja]) (8.5.0.96)\n",
            "Requirement already satisfied: nvidia-cuda-nvrtc-cu11==11.7.99 in /usr/local/lib/python3.10/dist-packages (from torch<2.0.0,>=1.0.1.post2->laserembeddings[ja]) (11.7.99)\n",
            "Requirement already satisfied: wheel in /usr/local/lib/python3.10/dist-packages (from nvidia-cublas-cu11==11.10.3.66->torch<2.0.0,>=1.0.1.post2->laserembeddings[ja]) (0.40.0)\n",
            "Requirement already satisfied: setuptools in /usr/local/lib/python3.10/dist-packages (from nvidia-cublas-cu11==11.10.3.66->torch<2.0.0,>=1.0.1.post2->laserembeddings[ja]) (67.7.2)\n",
            "Downloading models into /usr/local/lib/python3.10/dist-packages/laserembeddings/data\n",
            "\n",
            "✅   Downloaded https://dl.fbaipublicfiles.com/laser/models/93langs.fcodes    \n",
            "✅   Downloaded https://dl.fbaipublicfiles.com/laser/models/93langs.fvocab    \n",
            "✅   Downloaded https://dl.fbaipublicfiles.com/laser/models/bilstm.93langs.2018-12-26.pt    \n",
            "\n",
            "✨ You're all set!\n"
          ]
        }
      ]
    },
    {
      "cell_type": "markdown",
      "source": [
        "# Calculate text embeddings"
      ],
      "metadata": {
        "id": "Y_f383bo5xAm"
      }
    },
    {
      "cell_type": "code",
      "source": [
        "from laserembeddings import Laser\n",
        "laser = Laser()"
      ],
      "metadata": {
        "id": "_jtgNdc4fXZ6"
      },
      "execution_count": 61,
      "outputs": []
    },
    {
      "cell_type": "code",
      "source": [
        "all_embeddings = laser.embed_sentences(all_nodes.node_summary.values, lang=all_nodes.lang.values)"
      ],
      "metadata": {
        "id": "K0jFmvD3fPjJ"
      },
      "execution_count": 63,
      "outputs": []
    },
    {
      "cell_type": "code",
      "source": [
        "all_embedding_df = pd.DataFrame(all_embeddings)\n",
        "all_embedding_df.columns = [f\"emb_{i}\" for i in range(1, 1025)]"
      ],
      "metadata": {
        "id": "xAoeZdF2vD6o"
      },
      "execution_count": 81,
      "outputs": []
    },
    {
      "cell_type": "code",
      "source": [
        "nodes_with_embeddings = pd.concat([all_nodes, all_embedding_df], axis=1)"
      ],
      "metadata": {
        "id": "a7W7LxKGf9UC"
      },
      "execution_count": 82,
      "outputs": []
    },
    {
      "cell_type": "code",
      "source": [
        "nodes_with_embeddings.to_csv(\"all_nodes_with_embeddings.csv\")"
      ],
      "metadata": {
        "id": "uXXoO_xFxMwE"
      },
      "execution_count": 84,
      "outputs": []
    },
    {
      "cell_type": "code",
      "source": [
        "all_edges.to_csv(\"all_edges_interlanguage.csv\")"
      ],
      "metadata": {
        "id": "XeNXC-so8q5B"
      },
      "execution_count": 85,
      "outputs": []
    }
  ]
}